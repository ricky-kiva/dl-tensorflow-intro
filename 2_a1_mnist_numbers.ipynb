{
  "nbformat": 4,
  "nbformat_minor": 0,
  "metadata": {
    "colab": {
      "provenance": [],
      "authorship_tag": "ABX9TyMVupEh6KkW6Cy/MAjPW2JA",
      "include_colab_link": true
    },
    "kernelspec": {
      "name": "python3",
      "display_name": "Python 3"
    },
    "language_info": {
      "name": "python"
    }
  },
  "cells": [
    {
      "cell_type": "markdown",
      "metadata": {
        "id": "view-in-github",
        "colab_type": "text"
      },
      "source": [
        "<a href=\"https://colab.research.google.com/github/ricky-kiva/dl-tensorflow-intro/blob/main/2_a1_mnist_numbers.ipynb\" target=\"_parent\"><img src=\"https://colab.research.google.com/assets/colab-badge.svg\" alt=\"Open In Colab\"/></a>"
      ]
    },
    {
      "cell_type": "markdown",
      "source": [
        "# MNIST Numbers Model"
      ],
      "metadata": {
        "id": "fkyvwyAvKMc1"
      }
    },
    {
      "cell_type": "code",
      "source": [
        "# import libraries\n",
        "import tensorflow as tf\n",
        "from  tensorflow import keras"
      ],
      "metadata": {
        "id": "CKvvlUUnK9s4"
      },
      "execution_count": 11,
      "outputs": []
    },
    {
      "cell_type": "markdown",
      "source": [
        "Load dataset"
      ],
      "metadata": {
        "id": "ge1IXpVeL8D-"
      }
    },
    {
      "cell_type": "code",
      "source": [
        "# instantiate dataset from tensorflow API\n",
        "mnist = tf.keras.datasets.mnist\n",
        "\n",
        "# get only train data\n",
        "(x_train, y_train), _ = mnist.load_data()\n",
        "\n",
        "# normalize pixel values\n",
        "x_train = x_train / 255.0"
      ],
      "metadata": {
        "id": "S0Se7Dd8LGAv"
      },
      "execution_count": 12,
      "outputs": []
    },
    {
      "cell_type": "markdown",
      "source": [
        "Evaluate train data"
      ],
      "metadata": {
        "id": "fDU3KEOqMUMK"
      }
    },
    {
      "cell_type": "code",
      "source": [
        "data_shape = x_train.shape\n",
        "\n",
        "print(f'There are {data_shape[0]} samples with shape ({data_shape[1]}, {data_shape[2]})')"
      ],
      "metadata": {
        "colab": {
          "base_uri": "https://localhost:8080/"
        },
        "id": "qIexVZalMm_6",
        "outputId": "2c6534e5-a638-4b39-d8fd-76d8e740c3eb"
      },
      "execution_count": 13,
      "outputs": [
        {
          "output_type": "stream",
          "name": "stdout",
          "text": [
            "There are 60000 samples with shape (28, 28)\n"
          ]
        }
      ]
    },
    {
      "cell_type": "markdown",
      "source": [
        "Defining callback"
      ],
      "metadata": {
        "id": "kID4rXJtM2Uf"
      }
    },
    {
      "cell_type": "code",
      "source": [
        "class myCallback(tf.keras.callbacks.Callback):\n",
        "  def on_epoch_end(self, epoch, logs={}):\n",
        "    if logs.get('accuracy') is not None and logs.get('accuracy') > 0.99:\n",
        "      print(\"\\nReached 99% accuracy so cancelling training!\")\n",
        "      self.model.stop_training = True"
      ],
      "metadata": {
        "id": "tn8xDQ-dM86z"
      },
      "execution_count": 14,
      "outputs": []
    },
    {
      "cell_type": "markdown",
      "source": [
        "Make the model"
      ],
      "metadata": {
        "id": "5jPxQ3sVNOST"
      }
    },
    {
      "cell_type": "code",
      "source": [
        "def train_mnist(x_train, y_train):\n",
        "\n",
        "  callbacks = myCallback()\n",
        "\n",
        "  model = keras.models.Sequential([\n",
        "      keras.layers.Flatten(input_shape=(28, 28)),\n",
        "      keras.layers.Dense(512, activation=tf.nn.relu),\n",
        "      keras.layers.Dense(10, activation=tf.nn.softmax)\n",
        "  ])\n",
        "\n",
        "  model.compile(optimizer='adam',\n",
        "                loss='sparse_categorical_crossentropy',\n",
        "                metrics=['accuracy'])\n",
        "\n",
        "  history = model.fit(x_train, y_train, epochs=10, callbacks=[callbacks])\n",
        "\n",
        "  return history"
      ],
      "metadata": {
        "id": "G7XlJKP8NeZ8"
      },
      "execution_count": 17,
      "outputs": []
    },
    {
      "cell_type": "markdown",
      "source": [
        "Train the model"
      ],
      "metadata": {
        "id": "FWn942szOClA"
      }
    },
    {
      "cell_type": "code",
      "source": [
        "hist = train_mnist(x_train, y_train)"
      ],
      "metadata": {
        "colab": {
          "base_uri": "https://localhost:8080/"
        },
        "id": "iOjOj6WMOFEV",
        "outputId": "aaaa4d3c-718c-42d6-e4de-f65f32ce5a0a"
      },
      "execution_count": 18,
      "outputs": [
        {
          "output_type": "stream",
          "name": "stdout",
          "text": [
            "Epoch 1/10\n",
            "1875/1875 [==============================] - 15s 8ms/step - loss: 0.2020 - accuracy: 0.9402\n",
            "Epoch 2/10\n",
            "1875/1875 [==============================] - 15s 8ms/step - loss: 0.0822 - accuracy: 0.9743\n",
            "Epoch 3/10\n",
            "1875/1875 [==============================] - 15s 8ms/step - loss: 0.0532 - accuracy: 0.9836\n",
            "Epoch 4/10\n",
            "1875/1875 [==============================] - 15s 8ms/step - loss: 0.0369 - accuracy: 0.9882\n",
            "Epoch 5/10\n",
            "1873/1875 [============================>.] - ETA: 0s - loss: 0.0273 - accuracy: 0.9915\n",
            "Reached 99% accuracy so cancelling training!\n",
            "1875/1875 [==============================] - 15s 8ms/step - loss: 0.0273 - accuracy: 0.9915\n"
          ]
        }
      ]
    }
  ]
}