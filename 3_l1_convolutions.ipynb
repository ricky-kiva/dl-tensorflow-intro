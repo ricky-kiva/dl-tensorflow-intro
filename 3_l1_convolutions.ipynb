{
  "nbformat": 4,
  "nbformat_minor": 0,
  "metadata": {
    "colab": {
      "provenance": [],
      "authorship_tag": "ABX9TyOVd+a7VRLsvd9y/+Cj17BF",
      "include_colab_link": true
    },
    "kernelspec": {
      "name": "python3",
      "display_name": "Python 3"
    },
    "language_info": {
      "name": "python"
    },
    "accelerator": "TPU"
  },
  "cells": [
    {
      "cell_type": "markdown",
      "metadata": {
        "id": "view-in-github",
        "colab_type": "text"
      },
      "source": [
        "<a href=\"https://colab.research.google.com/github/ricky-kiva/dl-tensorflow-intro/blob/main/3_l1_convolutions.ipynb\" target=\"_parent\"><img src=\"https://colab.research.google.com/assets/colab-badge.svg\" alt=\"Open In Colab\"/></a>"
      ]
    },
    {
      "cell_type": "markdown",
      "source": [
        "# ***Convolution* to Improve Computer Vision Accuracy**"
      ],
      "metadata": {
        "id": "iPxW6LKV-O9s"
      }
    },
    {
      "cell_type": "code",
      "execution_count": 2,
      "metadata": {
        "id": "Jx_QEtU69sns"
      },
      "outputs": [],
      "source": [
        "# import libraries\n",
        "import tensorflow as tf"
      ]
    },
    {
      "cell_type": "code",
      "source": [
        "# load Fashion MNIST dataset\n",
        "fmnist = tf.keras.datasets.fashion_mnist\n",
        "(training_images, training_labels), (test_images, test_labels) = fmnist.load_data()\n",
        "\n",
        "# normalize pixel values\n",
        "training_images = training_images / 255.0\n",
        "test_images = test_images / 255.0"
      ],
      "metadata": {
        "colab": {
          "base_uri": "https://localhost:8080/"
        },
        "id": "53PVGA5--Zpc",
        "outputId": "e2924a74-2f81-4a52-e859-523f238440f0"
      },
      "execution_count": 3,
      "outputs": [
        {
          "output_type": "stream",
          "name": "stdout",
          "text": [
            "Downloading data from https://storage.googleapis.com/tensorflow/tf-keras-datasets/train-labels-idx1-ubyte.gz\n",
            "29515/29515 [==============================] - 0s 0us/step\n",
            "Downloading data from https://storage.googleapis.com/tensorflow/tf-keras-datasets/train-images-idx3-ubyte.gz\n",
            "26421880/26421880 [==============================] - 0s 0us/step\n",
            "Downloading data from https://storage.googleapis.com/tensorflow/tf-keras-datasets/t10k-labels-idx1-ubyte.gz\n",
            "5148/5148 [==============================] - 0s 0us/step\n",
            "Downloading data from https://storage.googleapis.com/tensorflow/tf-keras-datasets/t10k-images-idx3-ubyte.gz\n",
            "4422102/4422102 [==============================] - 0s 0us/step\n"
          ]
        }
      ]
    },
    {
      "cell_type": "markdown",
      "source": [
        "**Conv2D** (convolutional layer) is used to act as a feature detector\n",
        "\n",
        "**MaxPooling2D** (max pooling layer) is used to compress the image, by picking the highest pixel value in the pool\n",
        "\n",
        "**Conv2D** args:\n",
        "1.   **filters** (`32`): output 32 filters from this layer. each filter represents feature detector\n",
        "2.   **kernel_size** (`(3,3)`): size of each kernel (convolutional filter)\n",
        "\n",
        "**MaxPooling2D** args:\n",
        "1.   **pool_size** (`(2,2)`): size of each kernel (pooling)"
      ],
      "metadata": {
        "id": "10y-QSGBBBWz"
      }
    },
    {
      "cell_type": "code",
      "source": [
        "# defining callback\n",
        "class modelCallback(tf.keras.callbacks.Callback):\n",
        "  def on_epoch_end(self, epoch, logs={}):\n",
        "    if(logs.get('loss') < 0.3 and logs.get('accuracy') > 0.85):\n",
        "      print('\\nLoss is lower than 0.3 & accuracy is higher than 0.85, cancelling the training!')\n",
        "      self.model.stop_training = True\n",
        "\n",
        "#instantiate callback\n",
        "model_callback = modelCallback()"
      ],
      "metadata": {
        "id": "usyi-mapl8yN"
      },
      "execution_count": 4,
      "outputs": []
    },
    {
      "cell_type": "code",
      "source": [
        "# defining model\n",
        "model = tf.keras.models.Sequential([\n",
        "\n",
        "    # add convolutions & max pooling\n",
        "    tf.keras.layers.Conv2D(32, (3,3), activation='relu', input_shape=(28, 28, 1)),\n",
        "    tf.keras.layers.MaxPooling2D((2,2)),\n",
        "    tf.keras.layers.Conv2D(32, (3,3), activation='relu'),\n",
        "    tf.keras.layers.MaxPooling2D(2,2),\n",
        "\n",
        "    # add fully connected layers\n",
        "    tf.keras.layers.Flatten(),\n",
        "    tf.keras.layers.Dense(128, activation='relu'),\n",
        "    tf.keras.layers.Dense(10, activation='softmax')\n",
        "])\n",
        "\n",
        "# print model summary\n",
        "model.summary()\n",
        "\n",
        "# compile the model\n",
        "model.compile(optimizer='adam',\n",
        "              loss=tf.keras.losses.SparseCategoricalCrossentropy(),\n",
        "              metrics=['accuracy'])"
      ],
      "metadata": {
        "colab": {
          "base_uri": "https://localhost:8080/"
        },
        "id": "DxH1pOif-2wk",
        "outputId": "61b0b365-c9e7-46a3-a7e7-6c5ac5c864d3"
      },
      "execution_count": 17,
      "outputs": [
        {
          "output_type": "stream",
          "name": "stdout",
          "text": [
            "Model: \"sequential_4\"\n",
            "_________________________________________________________________\n",
            " Layer (type)                Output Shape              Param #   \n",
            "=================================================================\n",
            " conv2d_7 (Conv2D)           (None, 26, 26, 32)        320       \n",
            "                                                                 \n",
            " max_pooling2d_8 (MaxPooling  (None, 13, 13, 32)       0         \n",
            " 2D)                                                             \n",
            "                                                                 \n",
            " conv2d_8 (Conv2D)           (None, 11, 11, 32)        9248      \n",
            "                                                                 \n",
            " max_pooling2d_9 (MaxPooling  (None, 5, 5, 32)         0         \n",
            " 2D)                                                             \n",
            "                                                                 \n",
            " flatten_4 (Flatten)         (None, 800)               0         \n",
            "                                                                 \n",
            " dense_8 (Dense)             (None, 128)               102528    \n",
            "                                                                 \n",
            " dense_9 (Dense)             (None, 10)                1290      \n",
            "                                                                 \n",
            "=================================================================\n",
            "Total params: 113,386\n",
            "Trainable params: 113,386\n",
            "Non-trainable params: 0\n",
            "_________________________________________________________________\n"
          ]
        }
      ]
    },
    {
      "cell_type": "markdown",
      "source": [
        "*   The first **Conv2D** has shape of `(26, 26)` because the 1st pixel in the upper-left of the image can't be convoluted: **it doesn't have nearby top & left pixel**. This resulted to the image being cropped in each side by 1 pixel\n",
        "*   `32` after `(26, 26)` is the number of convolutional layer's output\n",
        "*   The output of the 1st layer is maxpooled by `(2, 2)` resulting to half of the image shape\n",
        "*   Increasing other convolutional layers after the first one allows the network to learn a more complex & abstract features from the data\n",
        "\n",
        "\n",
        "*   param's formula: `(filters-n) * (filters-size) * (input-channels-n) + (filters-n)`\n",
        "\n",
        "\n",
        "\n"
      ],
      "metadata": {
        "id": "bRRPo_A-DzMr"
      }
    },
    {
      "cell_type": "code",
      "source": [
        "# train the model\n",
        "print('MODEL TRAINING:')\n",
        "model.fit(training_images, training_labels, epochs=5, callbacks=[model_callback])"
      ],
      "metadata": {
        "colab": {
          "base_uri": "https://localhost:8080/"
        },
        "id": "NEJFWPUPD-pF",
        "outputId": "82acb6f3-2b01-43b0-9627-76b90685acce"
      },
      "execution_count": 6,
      "outputs": [
        {
          "output_type": "stream",
          "name": "stdout",
          "text": [
            "MODEL TRAINING:\n",
            "Epoch 1/5\n",
            "1875/1875 [==============================] - 64s 33ms/step - loss: 0.4674 - accuracy: 0.8300\n",
            "Epoch 2/5\n",
            "1875/1875 [==============================] - 79s 42ms/step - loss: 0.3105 - accuracy: 0.8863\n",
            "Epoch 3/5\n",
            "1874/1875 [============================>.] - ETA: 0s - loss: 0.2687 - accuracy: 0.9013\n",
            "Loss is lower than 0.3 & accuracy is higher than 0.85, cancelling the training!\n",
            "1875/1875 [==============================] - 63s 33ms/step - loss: 0.2687 - accuracy: 0.9013\n"
          ]
        },
        {
          "output_type": "execute_result",
          "data": {
            "text/plain": [
              "<keras.callbacks.History at 0x7ef8278b2320>"
            ]
          },
          "metadata": {},
          "execution_count": 6
        }
      ]
    },
    {
      "cell_type": "code",
      "source": [
        "# evaluate the model\n",
        "print('MODEL EVALUATION:')\n",
        "test_loss = model.evaluate(test_images, test_labels)"
      ],
      "metadata": {
        "colab": {
          "base_uri": "https://localhost:8080/"
        },
        "id": "EHWsj5QHGi3n",
        "outputId": "5a9a90e6-b9a3-4418-e07f-13185455651f"
      },
      "execution_count": 7,
      "outputs": [
        {
          "output_type": "stream",
          "name": "stdout",
          "text": [
            "MODEL EVALUATION:\n",
            "313/313 [==============================] - 3s 9ms/step - loss: 0.3018 - accuracy: 0.8933\n"
          ]
        }
      ]
    },
    {
      "cell_type": "markdown",
      "source": [
        "# **Visualizing Convolutions & Pooling**"
      ],
      "metadata": {
        "id": "LyAN00YZNtRf"
      }
    },
    {
      "cell_type": "markdown",
      "source": [
        "Print the first 100 labels (get the same value & see **common features** in each convolution)"
      ],
      "metadata": {
        "id": "dkv-pY7lNw_T"
      }
    },
    {
      "cell_type": "code",
      "source": [
        "ten_label = ''\n",
        "for index, label in enumerate(test_labels[:100]):\n",
        "  if (index % 10 == 0):\n",
        "    print(ten_label)\n",
        "    ten_label = ''\n",
        "  ten_label = ten_label + str(label) + ' '\n",
        "\n",
        "print('\\nNote: please -1, because index starts with 0')"
      ],
      "metadata": {
        "colab": {
          "base_uri": "https://localhost:8080/"
        },
        "id": "-_CX6z4fN0vd",
        "outputId": "74f7f0a3-9f53-4921-e63b-e04b9736173f"
      },
      "execution_count": null,
      "outputs": [
        {
          "output_type": "stream",
          "name": "stdout",
          "text": [
            "\n",
            "9 2 1 1 6 1 4 6 5 7 \n",
            "4 5 7 3 4 1 2 4 8 0 \n",
            "2 5 7 9 1 4 6 0 9 3 \n",
            "8 8 3 3 8 0 7 5 7 9 \n",
            "6 1 3 7 6 7 2 1 2 2 \n",
            "4 4 5 8 2 2 8 4 8 0 \n",
            "7 7 8 5 1 1 2 3 9 8 \n",
            "7 0 2 6 2 3 1 2 8 4 \n",
            "1 8 5 9 5 0 3 2 0 6 \n",
            "\n",
            "Note: please -1, because index starts with 0\n"
          ]
        }
      ]
    },
    {
      "cell_type": "code",
      "source": [
        "# import libraries\n",
        "import matplotlib.pyplot as plt\n",
        "from tensorflow.keras import models"
      ],
      "metadata": {
        "id": "zsX4ZGsfOePs"
      },
      "execution_count": 8,
      "outputs": []
    },
    {
      "cell_type": "markdown",
      "source": [
        "`keras.models.Model()`: create new model with the **same input** as `model` but has **multiple outputs corresponding to the outputs of each layer** in `model`"
      ],
      "metadata": {
        "id": "iCnqRSOBRGQL"
      }
    },
    {
      "cell_type": "code",
      "source": [
        "fig, axarr = plt.subplots(3, 4)\n",
        "\n",
        "FIRST_IMAGE = 0\n",
        "SECOND_IMAGE = 23\n",
        "THIRD_IMAGE = 28\n",
        "CONVOLUTION_NUMBER = 4 # max 32-(1 (index)) in this case (filters argument from the Conv2D)\n",
        "\n",
        "title_column = ['1st Conv2D', '1st MaxPool2D', '2nd Conv2D', '2nd MaxPool2D']\n",
        "title_row = [f'Item {FIRST_IMAGE}', f'Item {SECOND_IMAGE}', f'Item {THIRD_IMAGE}']\n",
        "\n",
        "layer_outputs = [layer.output for layer in model.layers]\n",
        "activation_model = tf.keras.models.Model(inputs=model.input, outputs=layer_outputs)\n",
        "\n",
        "for x in range(0, 4):\n",
        "  axarr[0, x].set_title(title_column[x], fontsize=8)\n",
        "  if x < 3:\n",
        "    axarr[x, 0].set_ylabel(title_row[x], fontsize=8)\n",
        "\n",
        "  # reshape because min dimension is 4 (known from error)\n",
        "  # `Model.predict` return numpy array of predictions\n",
        "  f1 = activation_model.predict(test_images[FIRST_IMAGE].reshape(1, 28, 28, 1))[x] # get the `x` prediction (in this case: the filter)\n",
        "  # f1[(get single image in dimension), (get x axis), (get y axis), (get the n-th convolution)]\n",
        "  axarr[0, x].imshow(f1[0, :, :, CONVOLUTION_NUMBER], cmap='inferno')\n",
        "  axarr[0, x].grid(False)\n",
        "\n",
        "  f2 = activation_model.predict(test_images[SECOND_IMAGE].reshape(1, 28, 28, 1))[x]\n",
        "  axarr[1, x].imshow(f2[0, :, :, CONVOLUTION_NUMBER], cmap='inferno')\n",
        "  axarr[1, x].grid(False)\n",
        "\n",
        "  f3 = activation_model.predict(test_images[THIRD_IMAGE].reshape(1, 28, 28, 1))[x]\n",
        "  axarr[2, x].imshow(f3[0, :, :, CONVOLUTION_NUMBER], cmap='inferno')\n",
        "  axarr[2, x].grid(False)"
      ],
      "metadata": {
        "colab": {
          "base_uri": "https://localhost:8080/",
          "height": 653
        },
        "id": "gpwetGwYOoPc",
        "outputId": "dbc9094b-b92c-480e-e04a-f98c6ffe88ad"
      },
      "execution_count": 20,
      "outputs": [
        {
          "output_type": "stream",
          "name": "stdout",
          "text": [
            "1/1 [==============================] - 0s 83ms/step\n",
            "1/1 [==============================] - 0s 23ms/step\n",
            "1/1 [==============================] - 0s 22ms/step\n",
            "1/1 [==============================] - 0s 26ms/step\n",
            "1/1 [==============================] - 0s 26ms/step\n",
            "1/1 [==============================] - 0s 23ms/step\n",
            "1/1 [==============================] - 0s 34ms/step\n",
            "1/1 [==============================] - 0s 22ms/step\n",
            "1/1 [==============================] - 0s 22ms/step\n",
            "1/1 [==============================] - 0s 29ms/step\n",
            "1/1 [==============================] - 0s 35ms/step\n",
            "1/1 [==============================] - 0s 38ms/step\n"
          ]
        },
        {
          "output_type": "display_data",
          "data": {
            "text/plain": [
              "<Figure size 640x480 with 12 Axes>"
            ],
            "image/png": "[encoded data removed]"
          },
          "metadata": {}
        }
      ]
    },
    {
      "cell_type": "markdown",
      "source": [
        "# **Trying Overfitting (Bad)**"
      ],
      "metadata": {
        "id": "vAUs8LMINZXy"
      }
    },
    {
      "cell_type": "code",
      "source": [
        "# train the model\n",
        "print('MODEL TRAINING:')\n",
        "model.fit(training_images, training_labels, epochs=20)"
      ],
      "metadata": {
        "colab": {
          "base_uri": "https://localhost:8080/"
        },
        "id": "NAWsGsZ2Ne8E",
        "outputId": "c71ed3ad-548a-45ac-cc93-2166d19274e6"
      },
      "execution_count": null,
      "outputs": [
        {
          "output_type": "stream",
          "name": "stdout",
          "text": [
            "MODEL TRAINING:\n",
            "Epoch 1/20\n",
            "1875/1875 [==============================] - 67s 36ms/step - loss: 0.2003 - accuracy: 0.9253\n",
            "Epoch 2/20\n",
            "1875/1875 [==============================] - 67s 36ms/step - loss: 0.1822 - accuracy: 0.9323\n",
            "Epoch 3/20\n",
            "1875/1875 [==============================] - 60s 32ms/step - loss: 0.1679 - accuracy: 0.9371\n",
            "Epoch 4/20\n",
            "1875/1875 [==============================] - 81s 43ms/step - loss: 0.1540 - accuracy: 0.9415\n",
            "Epoch 5/20\n",
            "1875/1875 [==============================] - 74s 39ms/step - loss: 0.1408 - accuracy: 0.9464\n",
            "Epoch 6/20\n",
            "1875/1875 [==============================] - 65s 34ms/step - loss: 0.1294 - accuracy: 0.9513\n",
            "Epoch 7/20\n",
            "1875/1875 [==============================] - 75s 40ms/step - loss: 0.1179 - accuracy: 0.9550\n",
            "Epoch 8/20\n",
            "1875/1875 [==============================] - 62s 33ms/step - loss: 0.1069 - accuracy: 0.9594\n",
            "Epoch 9/20\n",
            "1875/1875 [==============================] - 59s 32ms/step - loss: 0.0981 - accuracy: 0.9637\n",
            "Epoch 10/20\n",
            "1875/1875 [==============================] - 58s 31ms/step - loss: 0.0895 - accuracy: 0.9665\n",
            "Epoch 11/20\n",
            "1875/1875 [==============================] - 58s 31ms/step - loss: 0.0817 - accuracy: 0.9688\n",
            "Epoch 12/20\n",
            "1875/1875 [==============================] - 58s 31ms/step - loss: 0.0747 - accuracy: 0.9724\n",
            "Epoch 13/20\n",
            "1875/1875 [==============================] - 58s 31ms/step - loss: 0.0696 - accuracy: 0.9738\n",
            "Epoch 14/20\n",
            "1875/1875 [==============================] - 59s 31ms/step - loss: 0.0624 - accuracy: 0.9765\n",
            "Epoch 15/20\n",
            "1875/1875 [==============================] - 69s 37ms/step - loss: 0.0602 - accuracy: 0.9773\n",
            "Epoch 16/20\n",
            "1875/1875 [==============================] - 75s 40ms/step - loss: 0.0541 - accuracy: 0.9801\n",
            "Epoch 17/20\n",
            "1875/1875 [==============================] - 79s 42ms/step - loss: 0.0525 - accuracy: 0.9805\n",
            "Epoch 18/20\n",
            "1875/1875 [==============================] - 62s 33ms/step - loss: 0.0478 - accuracy: 0.9821\n",
            "Epoch 19/20\n",
            "1875/1875 [==============================] - 58s 31ms/step - loss: 0.0444 - accuracy: 0.9834\n",
            "Epoch 20/20\n",
            "1875/1875 [==============================] - 58s 31ms/step - loss: 0.0454 - accuracy: 0.9829\n"
          ]
        },
        {
          "output_type": "execute_result",
          "data": {
            "text/plain": [
              "<keras.callbacks.History at 0x7d6a0a68fc10>"
            ]
          },
          "metadata": {},
          "execution_count": 7
        }
      ]
    },
    {
      "cell_type": "code",
      "source": [
        "# evaluate the model\n",
        "print('MODEL EVALUATION:')\n",
        "test_loss = model.evaluate(test_images, test_labels)"
      ],
      "metadata": {
        "colab": {
          "base_uri": "https://localhost:8080/"
        },
        "id": "NyziBCjBNqR2",
        "outputId": "cd2c8855-0b29-4350-e191-19affe4801d5"
      },
      "execution_count": null,
      "outputs": [
        {
          "output_type": "stream",
          "name": "stdout",
          "text": [
            "MODEL EVALUATION:\n",
            "313/313 [==============================] - 3s 9ms/step - loss: 0.4980 - accuracy: 0.9100\n"
          ]
        }
      ]
    },
    {
      "cell_type": "markdown",
      "source": [
        "*   **loss** is highly unreasonable between the model *training* & *evaluation*. This is the symptoms of **overfitting**\n",
        "*   in this *model evaluation*, there is an interesting case: loss & accuracy has the same high value. this could be because the *softmax activation in output layer* predicted probabilities for the correct class are very high, but the probabilities for the incorrect classes are also relatively high\n",
        "\n"
      ],
      "metadata": {
        "id": "Yd0PuRuOTn_8"
      }
    },
    {
      "cell_type": "markdown",
      "source": [
        "# **EXERCISES**"
      ],
      "metadata": {
        "id": "N24cVN8IM5Xp"
      }
    },
    {
      "cell_type": "markdown",
      "source": [
        "### Exercise 1\n",
        "\n",
        "Using reducing (16) or adding (64) to Conv2D filters. What is the impact to the accuracy and/or training?"
      ],
      "metadata": {
        "id": "5SKQ7VO9M8p4"
      }
    },
    {
      "cell_type": "code",
      "source": [
        "# define model using 16 filters\n",
        "model = tf.keras.models.Sequential([\n",
        "    tf.keras.layers.Conv2D(16, (3,3), activation='relu', input_shape=(28, 28, 1)),\n",
        "    tf.keras.layers.MaxPooling2D((2,2)),\n",
        "    tf.keras.layers.Conv2D(16, (3,3), activation='relu'),\n",
        "    tf.keras.layers.MaxPooling2D((2,2)),\n",
        "\n",
        "    tf.keras.layers.Flatten(),\n",
        "    tf.keras.layers.Dense(128, activation='relu'),\n",
        "    tf.keras.layers.Dense(10, activation='softmax')\n",
        "])\n",
        "\n",
        "# print model summary\n",
        "model.summary()\n",
        "\n",
        "# compile model\n",
        "model.compile(optimizer='adam',\n",
        "              loss=tf.keras.losses.SparseCategoricalCrossentropy(),\n",
        "              metrics=['accuracy'])\n",
        "\n",
        "# train model\n",
        "print('\\nMODEL TRAINING:')\n",
        "model.fit(training_images, training_labels, epochs=5, callbacks=[model_callback])\n",
        "\n",
        "# evaluate on test set\n",
        "print('\\nMODEL EVALUATE:')\n",
        "model.evaluate(test_images, test_labels)"
      ],
      "metadata": {
        "colab": {
          "base_uri": "https://localhost:8080/"
        },
        "id": "amG-mZ_WNAJv",
        "outputId": "c2f09e9d-1838-46c0-a0d8-56212e79d52e"
      },
      "execution_count": null,
      "outputs": [
        {
          "output_type": "stream",
          "name": "stdout",
          "text": [
            "Model: \"sequential_4\"\n",
            "_________________________________________________________________\n",
            " Layer (type)                Output Shape              Param #   \n",
            "=================================================================\n",
            " conv2d_8 (Conv2D)           (None, 26, 26, 16)        160       \n",
            "                                                                 \n",
            " max_pooling2d_8 (MaxPooling  (None, 13, 13, 16)       0         \n",
            " 2D)                                                             \n",
            "                                                                 \n",
            " conv2d_9 (Conv2D)           (None, 11, 11, 16)        2320      \n",
            "                                                                 \n",
            " max_pooling2d_9 (MaxPooling  (None, 5, 5, 16)         0         \n",
            " 2D)                                                             \n",
            "                                                                 \n",
            " flatten_4 (Flatten)         (None, 400)               0         \n",
            "                                                                 \n",
            " dense_8 (Dense)             (None, 128)               51328     \n",
            "                                                                 \n",
            " dense_9 (Dense)             (None, 10)                1290      \n",
            "                                                                 \n",
            "=================================================================\n",
            "Total params: 55,098\n",
            "Trainable params: 55,098\n",
            "Non-trainable params: 0\n",
            "_________________________________________________________________\n",
            "\n",
            "MODEL TRAINING:\n",
            "Epoch 1/5\n",
            "1875/1875 [==============================] - 40s 21ms/step - loss: 0.5118 - accuracy: 0.8141\n",
            "Epoch 2/5\n",
            "1875/1875 [==============================] - 46s 24ms/step - loss: 0.3471 - accuracy: 0.8735\n",
            "Epoch 3/5\n",
            "1875/1875 [==============================] - 53s 28ms/step - loss: 0.3028 - accuracy: 0.8876\n",
            "Epoch 4/5\n",
            "1875/1875 [==============================] - ETA: 0s - loss: 0.2733 - accuracy: 0.8991\n",
            "Loss is lower than 0.3 & accuracy is higher than 0.85, cancelling the training!\n",
            "1875/1875 [==============================] - 38s 21ms/step - loss: 0.2733 - accuracy: 0.8991\n",
            "\n",
            "MODEL EVALUATE:\n",
            "313/313 [==============================] - 3s 8ms/step - loss: 0.3133 - accuracy: 0.8830\n"
          ]
        },
        {
          "output_type": "execute_result",
          "data": {
            "text/plain": [
              "[0.3133348226547241, 0.8830000162124634]"
            ]
          },
          "metadata": {},
          "execution_count": 16
        }
      ]
    },
    {
      "cell_type": "code",
      "source": [
        "# define model using 64 filters\n",
        "model = tf.keras.models.Sequential([\n",
        "    tf.keras.layers.Conv2D(64, (3,3), activation='relu', input_shape=(28, 28, 1)),\n",
        "    tf.keras.layers.MaxPooling2D((2,2)),\n",
        "    tf.keras.layers.Conv2D(64, (3,3), activation='relu'),\n",
        "    tf.keras.layers.MaxPooling2D((2,2)),\n",
        "\n",
        "    tf.keras.layers.Flatten(),\n",
        "    tf.keras.layers.Dense(128, activation='relu'),\n",
        "    tf.keras.layers.Dense(10, activation='softmax')\n",
        "])\n",
        "\n",
        "# print model summary\n",
        "model.summary()\n",
        "\n",
        "# compile model\n",
        "model.compile(optimizer='adam',\n",
        "              loss=tf.keras.losses.SparseCategoricalCrossentropy(),\n",
        "              metrics=['accuracy'])\n",
        "\n",
        "# train model\n",
        "print('\\nMODEL TRAINING:')\n",
        "model.fit(training_images, training_labels, epochs=5, callbacks=[model_callback])\n",
        "\n",
        "# evaluate on test set\n",
        "print('\\nMODEL EVALUATE:')\n",
        "model.evaluate(test_images, test_labels)"
      ],
      "metadata": {
        "colab": {
          "base_uri": "https://localhost:8080/"
        },
        "id": "SkCCLhaqQkad",
        "outputId": "f42f4cd0-6e06-466f-f58b-e3d5f1033934"
      },
      "execution_count": null,
      "outputs": [
        {
          "output_type": "stream",
          "name": "stdout",
          "text": [
            "Model: \"sequential_5\"\n",
            "_________________________________________________________________\n",
            " Layer (type)                Output Shape              Param #   \n",
            "=================================================================\n",
            " conv2d_10 (Conv2D)          (None, 26, 26, 64)        640       \n",
            "                                                                 \n",
            " max_pooling2d_10 (MaxPoolin  (None, 13, 13, 64)       0         \n",
            " g2D)                                                            \n",
            "                                                                 \n",
            " conv2d_11 (Conv2D)          (None, 11, 11, 64)        36928     \n",
            "                                                                 \n",
            " max_pooling2d_11 (MaxPoolin  (None, 5, 5, 64)         0         \n",
            " g2D)                                                            \n",
            "                                                                 \n",
            " flatten_5 (Flatten)         (None, 1600)              0         \n",
            "                                                                 \n",
            " dense_10 (Dense)            (None, 128)               204928    \n",
            "                                                                 \n",
            " dense_11 (Dense)            (None, 10)                1290      \n",
            "                                                                 \n",
            "=================================================================\n",
            "Total params: 243,786\n",
            "Trainable params: 243,786\n",
            "Non-trainable params: 0\n",
            "_________________________________________________________________\n",
            "\n",
            "MODEL TRAINING:\n",
            "Epoch 1/5\n",
            "1875/1875 [==============================] - 110s 58ms/step - loss: 0.4366 - accuracy: 0.8425\n",
            "Epoch 2/5\n",
            "1875/1875 [==============================] - ETA: 0s - loss: 0.2904 - accuracy: 0.8928\n",
            "Loss is lower than 0.3 & accuracy is higher than 0.85, cancelling the training!\n",
            "1875/1875 [==============================] - 112s 60ms/step - loss: 0.2904 - accuracy: 0.8928\n",
            "\n",
            "MODEL EVALUATE:\n",
            "313/313 [==============================] - 6s 18ms/step - loss: 0.2997 - accuracy: 0.8931\n"
          ]
        },
        {
          "output_type": "execute_result",
          "data": {
            "text/plain": [
              "[0.2997381091117859, 0.8931000232696533]"
            ]
          },
          "metadata": {},
          "execution_count": 17
        }
      ]
    },
    {
      "cell_type": "markdown",
      "source": [
        "Result:\n",
        "*   lower filter (`16`): faster train time, lower accuracy\n",
        "*   higher filter (`64`): lower train time, higher accuracy\n",
        "\n"
      ],
      "metadata": {
        "id": "5QNaDh37TlmI"
      }
    },
    {
      "cell_type": "markdown",
      "source": [
        "### Exercise 2\n",
        "\n",
        "Removing the final convolution. What impact will it have on accuracy / training time?"
      ],
      "metadata": {
        "id": "GGbmSpXATnlX"
      }
    },
    {
      "cell_type": "code",
      "source": [
        "# remove the 2nd convolution\n",
        "model = tf.keras.models.Sequential([\n",
        "    tf.keras.layers.Conv2D(32, (3,3), activation='relu', input_shape=(28, 28, 1)),\n",
        "    tf.keras.layers.MaxPooling2D((2,2)),\n",
        "    tf.keras.layers.MaxPooling2D((2,2)),\n",
        "\n",
        "    tf.keras.layers.Flatten(),\n",
        "    tf.keras.layers.Dense(128, activation='relu'),\n",
        "    tf.keras.layers.Dense(10, activation='softmax')\n",
        "])\n",
        "\n",
        "# print the model summary\n",
        "model.summary()\n",
        "\n",
        "# compile the model\n",
        "model.compile(optimizer='adam', loss=tf.keras.losses.SparseCategoricalCrossentropy(), metrics=['accuracy'])\n",
        "\n",
        "# train model\n",
        "print('\\nMODEL TRAINING:')\n",
        "model.fit(training_images, training_labels, epochs=5, callbacks=[model_callback])\n",
        "\n",
        "# evaluate on test set\n",
        "print('\\nMODEL EVALUATE:')\n",
        "model.evaluate(test_images, test_labels)"
      ],
      "metadata": {
        "id": "VCf8N9jhTp3F",
        "colab": {
          "base_uri": "https://localhost:8080/"
        },
        "outputId": "77038521-f13d-432b-aa38-b3ca85e6fef5"
      },
      "execution_count": 10,
      "outputs": [
        {
          "output_type": "stream",
          "name": "stdout",
          "text": [
            "Model: \"sequential_1\"\n",
            "_________________________________________________________________\n",
            " Layer (type)                Output Shape              Param #   \n",
            "=================================================================\n",
            " conv2d_2 (Conv2D)           (None, 26, 26, 32)        320       \n",
            "                                                                 \n",
            " max_pooling2d_2 (MaxPooling  (None, 13, 13, 32)       0         \n",
            " 2D)                                                             \n",
            "                                                                 \n",
            " max_pooling2d_3 (MaxPooling  (None, 6, 6, 32)         0         \n",
            " 2D)                                                             \n",
            "                                                                 \n",
            " flatten_1 (Flatten)         (None, 1152)              0         \n",
            "                                                                 \n",
            " dense_2 (Dense)             (None, 128)               147584    \n",
            "                                                                 \n",
            " dense_3 (Dense)             (None, 10)                1290      \n",
            "                                                                 \n",
            "=================================================================\n",
            "Total params: 149,194\n",
            "Trainable params: 149,194\n",
            "Non-trainable params: 0\n",
            "_________________________________________________________________\n",
            "\n",
            "MODEL TRAINING:\n",
            "Epoch 1/5\n",
            "1875/1875 [==============================] - 43s 22ms/step - loss: 0.4727 - accuracy: 0.8310\n",
            "Epoch 2/5\n",
            "1875/1875 [==============================] - 42s 22ms/step - loss: 0.3309 - accuracy: 0.8804\n",
            "Epoch 3/5\n",
            "1875/1875 [==============================] - ETA: 0s - loss: 0.2870 - accuracy: 0.8955\n",
            "Loss is lower than 0.3 & accuracy is higher than 0.85, cancelling the training!\n",
            "1875/1875 [==============================] - 54s 29ms/step - loss: 0.2870 - accuracy: 0.8955\n",
            "\n",
            "MODEL EVALUATE:\n",
            "313/313 [==============================] - 3s 9ms/step - loss: 0.3040 - accuracy: 0.8911\n"
          ]
        },
        {
          "output_type": "execute_result",
          "data": {
            "text/plain": [
              "[0.30404582619667053, 0.8910999894142151]"
            ]
          },
          "metadata": {},
          "execution_count": 10
        }
      ]
    },
    {
      "cell_type": "markdown",
      "source": [
        "**Result**:\n",
        "*   higher trainable params (which could be improved by convolution),\n",
        "*   lower training time\n",
        "*   lower accurary, higher loss, in *evaluate*\n"
      ],
      "metadata": {
        "id": "jlO_dbTbU-p0"
      }
    },
    {
      "cell_type": "markdown",
      "source": [
        "### Exercise 3\n",
        "\n",
        "What about adding more convolutions? What impact will it have?"
      ],
      "metadata": {
        "id": "Xx4x2yasVB2m"
      }
    },
    {
      "cell_type": "code",
      "source": [
        "model = tf.keras.models.Sequential([\n",
        "    tf.keras.layers.Conv2D(32, (3,3), activation='relu', input_shape=(28, 28, 1)),\n",
        "    tf.keras.layers.MaxPooling2D((2,2)),\n",
        "    tf.keras.layers.Conv2D(32, (3,3), activation='relu'),\n",
        "    tf.keras.layers.MaxPooling2D((2,2)),\n",
        "\n",
        "    # add more convolution\n",
        "    tf.keras.layers.Conv2D(32, (3,3), activation='relu'),\n",
        "    tf.keras.layers.MaxPooling2D((2,2)),\n",
        "\n",
        "    tf.keras.layers.Flatten(),\n",
        "    tf.keras.layers.Dense(128, activation='relu'),\n",
        "    tf.keras.layers.Dense(10, activation='softmax')\n",
        "])\n",
        "\n",
        "# print model summary\n",
        "model.summary()\n",
        "\n",
        "# compile model\n",
        "model.compile(optimizer='adam',\n",
        "              loss=tf.keras.losses.SparseCategoricalCrossentropy(),\n",
        "              metrics=['accuracy'])\n",
        "\n",
        "# train model\n",
        "print('\\nMODEL TRAINING:')\n",
        "model.fit(training_images, training_labels, epochs=5, callbacks=[model_callback])\n",
        "\n",
        "# evaluate on test set\n",
        "print('\\nMODEL EVALUATE:')\n",
        "model.evaluate(test_images, test_labels)"
      ],
      "metadata": {
        "id": "y4tss66wVKvt",
        "colab": {
          "base_uri": "https://localhost:8080/"
        },
        "outputId": "5fa1e259-49ee-4791-f68c-419d11292be1"
      },
      "execution_count": 11,
      "outputs": [
        {
          "output_type": "stream",
          "name": "stdout",
          "text": [
            "Model: \"sequential_2\"\n",
            "_________________________________________________________________\n",
            " Layer (type)                Output Shape              Param #   \n",
            "=================================================================\n",
            " conv2d_3 (Conv2D)           (None, 26, 26, 32)        320       \n",
            "                                                                 \n",
            " max_pooling2d_4 (MaxPooling  (None, 13, 13, 32)       0         \n",
            " 2D)                                                             \n",
            "                                                                 \n",
            " conv2d_4 (Conv2D)           (None, 11, 11, 32)        9248      \n",
            "                                                                 \n",
            " max_pooling2d_5 (MaxPooling  (None, 5, 5, 32)         0         \n",
            " 2D)                                                             \n",
            "                                                                 \n",
            " conv2d_5 (Conv2D)           (None, 3, 3, 32)          9248      \n",
            "                                                                 \n",
            " max_pooling2d_6 (MaxPooling  (None, 1, 1, 32)         0         \n",
            " 2D)                                                             \n",
            "                                                                 \n",
            " flatten_2 (Flatten)         (None, 32)                0         \n",
            "                                                                 \n",
            " dense_4 (Dense)             (None, 128)               4224      \n",
            "                                                                 \n",
            " dense_5 (Dense)             (None, 10)                1290      \n",
            "                                                                 \n",
            "=================================================================\n",
            "Total params: 24,330\n",
            "Trainable params: 24,330\n",
            "Non-trainable params: 0\n",
            "_________________________________________________________________\n",
            "\n",
            "MODEL TRAINING:\n",
            "Epoch 1/5\n",
            "1875/1875 [==============================] - 59s 30ms/step - loss: 0.6390 - accuracy: 0.7640\n",
            "Epoch 2/5\n",
            "1875/1875 [==============================] - 58s 31ms/step - loss: 0.4365 - accuracy: 0.8400\n",
            "Epoch 3/5\n",
            "1875/1875 [==============================] - 56s 30ms/step - loss: 0.3802 - accuracy: 0.8591\n",
            "Epoch 4/5\n",
            "1875/1875 [==============================] - 55s 30ms/step - loss: 0.3493 - accuracy: 0.8698\n",
            "Epoch 5/5\n",
            "1875/1875 [==============================] - 55s 29ms/step - loss: 0.3250 - accuracy: 0.8783\n",
            "\n",
            "MODEL EVALUATE:\n",
            "313/313 [==============================] - 3s 8ms/step - loss: 0.3880 - accuracy: 0.8603\n"
          ]
        },
        {
          "output_type": "execute_result",
          "data": {
            "text/plain": [
              "[0.3880068063735962, 0.8603000044822693]"
            ]
          },
          "metadata": {},
          "execution_count": 11
        }
      ]
    },
    {
      "cell_type": "markdown",
      "source": [
        "**Result**:\n",
        "*   lower accuracy, higher loss\n",
        "*   higher overall train time\n",
        "*   potential reason of declining:\n",
        "  *   overfitting\n",
        "  *   too much compression\n",
        "  *   vanishing gradient\n",
        "  \n"
      ],
      "metadata": {
        "id": "g3h9my2hVI39"
      }
    },
    {
      "cell_type": "markdown",
      "source": [
        "### Exercise 4\n",
        "\n",
        "Remove all convolution but the first. What impact will it have?"
      ],
      "metadata": {
        "id": "JTgZE4utVSXr"
      }
    },
    {
      "cell_type": "code",
      "source": [
        "model = tf.keras.models.Sequential([\n",
        "    tf.keras.layers.Conv2D(32, (3,3), activation='relu', input_shape=(28, 28, 1)),\n",
        "    tf.keras.layers.MaxPooling2D((2,2)),\n",
        "\n",
        "    tf.keras.layers.Flatten(),\n",
        "    tf.keras.layers.Dense(128, activation='relu'),\n",
        "    tf.keras.layers.Dense(10, activation='softmax')\n",
        "])\n",
        "\n",
        "# print model summary\n",
        "model.summary()\n",
        "\n",
        "# compile model\n",
        "model.compile(optimizer='adam',\n",
        "              loss=tf.keras.losses.SparseCategoricalCrossentropy(),\n",
        "              metrics=['accuracy'])\n",
        "\n",
        "# train model\n",
        "print('\\nMODEL TRAINING:')\n",
        "model.fit(training_images, training_labels, epochs=5, callbacks=[model_callback])\n",
        "\n",
        "# evaluate on test set\n",
        "print('\\nMODEL EVALUATE:')\n",
        "model.evaluate(test_images, test_labels)"
      ],
      "metadata": {
        "colab": {
          "base_uri": "https://localhost:8080/"
        },
        "id": "6VAcCJpwVZSu",
        "outputId": "259cf7f1-909c-48e6-9c77-f222e199b87d"
      },
      "execution_count": 12,
      "outputs": [
        {
          "output_type": "stream",
          "name": "stdout",
          "text": [
            "Model: \"sequential_3\"\n",
            "_________________________________________________________________\n",
            " Layer (type)                Output Shape              Param #   \n",
            "=================================================================\n",
            " conv2d_6 (Conv2D)           (None, 26, 26, 32)        320       \n",
            "                                                                 \n",
            " max_pooling2d_7 (MaxPooling  (None, 13, 13, 32)       0         \n",
            " 2D)                                                             \n",
            "                                                                 \n",
            " flatten_3 (Flatten)         (None, 5408)              0         \n",
            "                                                                 \n",
            " dense_6 (Dense)             (None, 128)               692352    \n",
            "                                                                 \n",
            " dense_7 (Dense)             (None, 10)                1290      \n",
            "                                                                 \n",
            "=================================================================\n",
            "Total params: 693,962\n",
            "Trainable params: 693,962\n",
            "Non-trainable params: 0\n",
            "_________________________________________________________________\n",
            "\n",
            "MODEL TRAINING:\n",
            "Epoch 1/5\n",
            "1875/1875 [==============================] - 52s 27ms/step - loss: 0.3934 - accuracy: 0.8597\n",
            "Epoch 2/5\n",
            "1874/1875 [============================>.] - ETA: 0s - loss: 0.2648 - accuracy: 0.9038\n",
            "Loss is lower than 0.3 & accuracy is higher than 0.85, cancelling the training!\n",
            "1875/1875 [==============================] - 51s 27ms/step - loss: 0.2649 - accuracy: 0.9038\n",
            "\n",
            "MODEL EVALUATE:\n",
            "313/313 [==============================] - 3s 9ms/step - loss: 0.2794 - accuracy: 0.8979\n"
          ]
        },
        {
          "output_type": "execute_result",
          "data": {
            "text/plain": [
              "[0.27944761514663696, 0.8978999853134155]"
            ]
          },
          "metadata": {},
          "execution_count": 12
        }
      ]
    },
    {
      "cell_type": "markdown",
      "source": [
        "**Result**:\n",
        "*   faster overall train time\n",
        "*   higher loss, lower accuracy, in model *evaluate*\n",
        "\n"
      ],
      "metadata": {
        "id": "XnVXL6ShY8p9"
      }
    }
  ]
}