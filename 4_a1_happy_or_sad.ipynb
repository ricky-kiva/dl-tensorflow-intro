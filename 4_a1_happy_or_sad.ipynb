{
  "nbformat": 4,
  "nbformat_minor": 0,
  "metadata": {
    "colab": {
      "provenance": [],
      "gpuType": "T4",
      "authorship_tag": "ABX9TyOuO9sBCFVkDCoyxHEaJ55o",
      "include_colab_link": true
    },
    "kernelspec": {
      "name": "python3",
      "display_name": "Python 3"
    },
    "language_info": {
      "name": "python"
    },
    "accelerator": "GPU"
  },
  "cells": [
    {
      "cell_type": "markdown",
      "metadata": {
        "id": "view-in-github",
        "colab_type": "text"
      },
      "source": [
        "<a href=\"https://colab.research.google.com/github/ricky-kiva/dl-tensorflow-intro/blob/main/4_a1_happy_or_sad.ipynb\" target=\"_parent\"><img src=\"https://colab.research.google.com/assets/colab-badge.svg\" alt=\"Open In Colab\"/></a>"
      ]
    },
    {
      "cell_type": "markdown",
      "source": [
        "# **Happy or Sad?**\n",
        "\n",
        "Achieve *>= 0.999 accuracy* on Happy or Sad dataset"
      ],
      "metadata": {
        "id": "qHISA3NMamQy"
      }
    },
    {
      "cell_type": "code",
      "source": [
        "# import libraries\n",
        "import tensorflow as tf\n",
        "import matplotlib.pyplot as plt\n",
        "import numpy as np\n",
        "import os\n",
        "import zipfile"
      ],
      "metadata": {
        "id": "kGBtBLD5a3Xd"
      },
      "execution_count": 102,
      "outputs": []
    },
    {
      "cell_type": "markdown",
      "source": [
        "Download dataset"
      ],
      "metadata": {
        "id": "y7RpFAoMbfxA"
      }
    },
    {
      "cell_type": "code",
      "source": [
        "!wget --no-check-certificate https://storage.googleapis.com/learning-datasets/happy-or-sad.zip"
      ],
      "metadata": {
        "colab": {
          "base_uri": "https://localhost:8080/"
        },
        "id": "yfVdxWVkbiLh",
        "outputId": "0c65ae5c-dbee-4ffd-c88d-748b8394cf17"
      },
      "execution_count": 103,
      "outputs": [
        {
          "output_type": "stream",
          "name": "stdout",
          "text": [
            "--2023-09-11 09:55:15--  https://storage.googleapis.com/learning-datasets/happy-or-sad.zip\n",
            "Resolving storage.googleapis.com (storage.googleapis.com)... 173.194.192.207, 209.85.145.207, 209.85.146.207, ...\n",
            "Connecting to storage.googleapis.com (storage.googleapis.com)|173.194.192.207|:443... connected.\n",
            "HTTP request sent, awaiting response... 200 OK\n",
            "Length: 2670333 (2.5M) [application/zip]\n",
            "Saving to: ‘happy-or-sad.zip.5’\n",
            "\n",
            "\rhappy-or-sad.zip.5    0%[                    ]       0  --.-KB/s               \rhappy-or-sad.zip.5  100%[===================>]   2.55M  --.-KB/s    in 0.01s   \n",
            "\n",
            "2023-09-11 09:55:15 (197 MB/s) - ‘happy-or-sad.zip.5’ saved [2670333/2670333]\n",
            "\n"
          ]
        }
      ]
    },
    {
      "cell_type": "markdown",
      "source": [
        "Extract dataset"
      ],
      "metadata": {
        "id": "wvOyDvhQdA6A"
      }
    },
    {
      "cell_type": "code",
      "source": [
        "# unzip training files\n",
        "local_zip = './happy-or-sad.zip'\n",
        "zip_ref = zipfile.ZipFile(local_zip, 'r')\n",
        "zip_ref.extractall('./data')\n",
        "\n",
        "zip_ref.close()"
      ],
      "metadata": {
        "id": "owFz41fzdGqr"
      },
      "execution_count": 104,
      "outputs": []
    },
    {
      "cell_type": "markdown",
      "source": [
        "Referencing the image directory"
      ],
      "metadata": {
        "id": "0w1hX8RZbMuS"
      }
    },
    {
      "cell_type": "code",
      "source": [
        "from tensorflow.keras.preprocessing.image import load_img\n",
        "\n",
        "base_dir = \"./data/\"\n",
        "happy_dir = os.path.join(base_dir, 'happy/')\n",
        "sad_dir = os.path.join(base_dir, 'sad/')\n",
        "\n",
        "print(\"Sample happy image:\")\n",
        "plt.imshow(load_img(f'{os.path.join(happy_dir, os.listdir(happy_dir)[12])}'))\n",
        "plt.gcf().set_size_inches(1.5, 1.5)\n",
        "plt.axis('off')\n",
        "plt.show()\n",
        "\n",
        "print(\"\\nSample sad image:\")\n",
        "plt.imshow(load_img(f'{os.path.join(sad_dir, os.listdir(sad_dir)[15])}'))\n",
        "plt.gcf().set_size_inches(1.5, 1.5)\n",
        "plt.axis('off')\n",
        "plt.show()"
      ],
      "metadata": {
        "colab": {
          "base_uri": "https://localhost:8080/",
          "height": 339
        },
        "id": "u-szQls-bS1U",
        "outputId": "d927ea66-1505-4cbe-e0f0-ec3ec4d3b14e"
      },
      "execution_count": 105,
      "outputs": [
        {
          "output_type": "stream",
          "name": "stdout",
          "text": [
            "Sample happy image:\n"
          ]
        },
        {
          "output_type": "display_data",
          "data": {
            "text/plain": [
              "<Figure size 150x150 with 1 Axes>"
            ],
            "image/png": "[encoded data removed]"
          },
          "metadata": {}
        },
        {
          "output_type": "stream",
          "name": "stdout",
          "text": [
            "\n",
            "Sample sad image:\n"
          ]
        },
        {
          "output_type": "display_data",
          "data": {
            "text/plain": [
              "<Figure size 150x150 with 1 Axes>"
            ],
            "image/png": "[encoded data removed]"
          },
          "metadata": {}
        }
      ]
    },
    {
      "cell_type": "markdown",
      "source": [
        "Inspect image shape"
      ],
      "metadata": {
        "id": "I-h67X6keLj6"
      }
    },
    {
      "cell_type": "code",
      "source": [
        "from tensorflow.keras.preprocessing.image import img_to_array\n",
        "\n",
        "sample_image = load_img(f'{os.path.join(happy_dir, os.listdir(happy_dir)[0])}')\n",
        "sample_array = img_to_array(sample_image)\n",
        "\n",
        "print(f'Each image has shape: {sample_array.shape}')\n",
        "print(f'Maximum pixel value used: {np.max(sample_array)}')"
      ],
      "metadata": {
        "colab": {
          "base_uri": "https://localhost:8080/"
        },
        "id": "5sEUCrLPg6Wt",
        "outputId": "2e9a7a0e-cd58-4ca6-f0ab-0f790f5bde0f"
      },
      "execution_count": 106,
      "outputs": [
        {
          "output_type": "stream",
          "name": "stdout",
          "text": [
            "Each image has shape: (150, 150, 3)\n",
            "Maximum pixel value used: 255.0\n"
          ]
        }
      ]
    },
    {
      "cell_type": "code",
      "source": [
        "class myCallback(tf.keras.callbacks.Callback):\n",
        "  def on_epoch_end(self, epoch, logs={}):\n",
        "    if logs.get('accuracy') is not None and logs.get('accuracy') > 0.999:\n",
        "      print('\\nReached 99.9% accuracy so cancelling training!')\n",
        "      self.model.stop_training = True"
      ],
      "metadata": {
        "id": "SY4E-fmAiqtt"
      },
      "execution_count": 107,
      "outputs": []
    },
    {
      "cell_type": "markdown",
      "source": [
        "Make function to preprocess the data"
      ],
      "metadata": {
        "id": "RPzLt_6Ti_hg"
      }
    },
    {
      "cell_type": "code",
      "source": [
        "from tensorflow.keras.preprocessing.image import ImageDataGenerator\n",
        "\n",
        "def image_generator():\n",
        "  train_datagen = ImageDataGenerator(rescale=1/255)\n",
        "  train_generator = train_datagen.flow_from_directory(directory=base_dir,\n",
        "                                                      target_size=(150, 150),\n",
        "                                                      batch_size=10,\n",
        "                                                      class_mode='binary')\n",
        "\n",
        "  return train_generator"
      ],
      "metadata": {
        "id": "4J6ecs-7jBrA"
      },
      "execution_count": 108,
      "outputs": []
    },
    {
      "cell_type": "markdown",
      "source": [
        "Save generator to variable"
      ],
      "metadata": {
        "id": "8ijQkDiYjbrM"
      }
    },
    {
      "cell_type": "code",
      "source": [
        "gen = image_generator()"
      ],
      "metadata": {
        "colab": {
          "base_uri": "https://localhost:8080/"
        },
        "id": "rL7qeLDFjivx",
        "outputId": "d5d02206-4d58-4011-d261-2977c4e5508b"
      },
      "execution_count": 109,
      "outputs": [
        {
          "output_type": "stream",
          "name": "stdout",
          "text": [
            "Found 80 images belonging to 2 classes.\n"
          ]
        }
      ]
    },
    {
      "cell_type": "code",
      "source": [
        "from tensorflow.keras import optimizers, losses\n",
        "\n",
        "def train_happy_sad_model(train_generator):\n",
        "\n",
        "  # instantiate callback\n",
        "  callbacks = myCallback()\n",
        "\n",
        "  model = tf.keras.models.Sequential([\n",
        "    # first convolution layer\n",
        "    tf.keras.layers.Conv2D(128, (3,3), activation='relu', input_shape=(150, 150, 3)),\n",
        "    tf.keras.layers.MaxPooling2D((2,2)),\n",
        "    # second convolution layer\n",
        "    tf.keras.layers.Conv2D(256, (3,3), activation='relu'),\n",
        "    tf.keras.layers.MaxPooling2D((2,2)),\n",
        "    # third convolution layer\n",
        "    tf.keras.layers.Conv2D(512, (3,3), activation='relu'),\n",
        "    tf.keras.layers.MaxPooling2D((2,2)),\n",
        "\n",
        "    # fully connected layers\n",
        "    tf.keras.layers.Flatten(),\n",
        "    tf.keras.layers.Dense(512, activation='relu'),\n",
        "    tf.keras.layers.Dense(1, activation='sigmoid')\n",
        "  ])\n",
        "\n",
        "  model.compile(loss=losses.BinaryCrossentropy(),\n",
        "                optimizer=optimizers.RMSprop(learning_rate=0.0001),\n",
        "                metrics=['accuracy'])\n",
        "\n",
        "  history = model.fit(x=train_generator,\n",
        "                      epochs=20,\n",
        "                      callbacks=[callbacks])\n",
        "\n",
        "  return history"
      ],
      "metadata": {
        "id": "giLEhiQsjjuL"
      },
      "execution_count": 113,
      "outputs": []
    },
    {
      "cell_type": "markdown",
      "source": [
        "Train the model"
      ],
      "metadata": {
        "id": "Y-yugSAwkY0v"
      }
    },
    {
      "cell_type": "code",
      "source": [
        "hist = train_happy_sad_model(gen)"
      ],
      "metadata": {
        "colab": {
          "base_uri": "https://localhost:8080/"
        },
        "id": "_Yujm_2MkaLX",
        "outputId": "81137c81-7812-4432-8fc8-f0f18174d7f7"
      },
      "execution_count": 114,
      "outputs": [
        {
          "output_type": "stream",
          "name": "stdout",
          "text": [
            "Epoch 1/20\n",
            "6/8 [=====================>........] - ETA: 0s - loss: 0.8674 - accuracy: 0.5000"
          ]
        },
        {
          "output_type": "stream",
          "name": "stderr",
          "text": [
            "WARNING:tensorflow:Callback method `on_train_batch_end` is slow compared to the batch time (batch time: 0.0170s vs `on_train_batch_end` time: 0.0256s). Check your callbacks.\n"
          ]
        },
        {
          "output_type": "stream",
          "name": "stdout",
          "text": [
            "8/8 [==============================] - 4s 51ms/step - loss: 0.8153 - accuracy: 0.5375\n",
            "Epoch 2/20\n",
            "8/8 [==============================] - 0s 50ms/step - loss: 0.6271 - accuracy: 0.6750\n",
            "Epoch 3/20\n",
            "8/8 [==============================] - 0s 52ms/step - loss: 0.4579 - accuracy: 0.8500\n",
            "Epoch 4/20\n",
            "8/8 [==============================] - 0s 51ms/step - loss: 0.3572 - accuracy: 0.8000\n",
            "Epoch 5/20\n",
            "8/8 [==============================] - 0s 52ms/step - loss: 0.2399 - accuracy: 0.9000\n",
            "Epoch 6/20\n",
            "8/8 [==============================] - 0s 50ms/step - loss: 0.1643 - accuracy: 0.9375\n",
            "Epoch 7/20\n",
            "8/8 [==============================] - 0s 50ms/step - loss: 0.1185 - accuracy: 0.9500\n",
            "Epoch 8/20\n",
            "8/8 [==============================] - 0s 51ms/step - loss: 0.1245 - accuracy: 0.9625\n",
            "Epoch 9/20\n",
            "8/8 [==============================] - 0s 49ms/step - loss: 0.1228 - accuracy: 0.9250\n",
            "Epoch 10/20\n",
            "8/8 [==============================] - 0s 52ms/step - loss: 0.0672 - accuracy: 0.9750\n",
            "Epoch 11/20\n",
            "8/8 [==============================] - 0s 50ms/step - loss: 0.1024 - accuracy: 0.9375\n",
            "Epoch 12/20\n",
            "8/8 [==============================] - 0s 50ms/step - loss: 0.0535 - accuracy: 0.9750\n",
            "Epoch 13/20\n",
            "8/8 [==============================] - 0s 52ms/step - loss: 0.0554 - accuracy: 0.9875\n",
            "Epoch 14/20\n",
            "8/8 [==============================] - 0s 50ms/step - loss: 0.0360 - accuracy: 0.9875\n",
            "Epoch 15/20\n",
            "8/8 [==============================] - ETA: 0s - loss: 0.0279 - accuracy: 1.0000\n",
            "Reached 99.9% accuracy so cancelling training!\n",
            "8/8 [==============================] - 0s 51ms/step - loss: 0.0279 - accuracy: 1.0000\n"
          ]
        }
      ]
    },
    {
      "cell_type": "markdown",
      "source": [
        "Check if model stopped before or at least in 15 epoch"
      ],
      "metadata": {
        "id": "acAkfcQ4kdxL"
      }
    },
    {
      "cell_type": "code",
      "source": [
        "print(f\"Your model reached the desired accuracy after {len(hist.epoch)} epochs\")"
      ],
      "metadata": {
        "colab": {
          "base_uri": "https://localhost:8080/"
        },
        "id": "fnIbeXgZrAS4",
        "outputId": "5a982d4d-0843-4c68-eb71-0f3124b9915c"
      },
      "execution_count": 115,
      "outputs": [
        {
          "output_type": "stream",
          "name": "stdout",
          "text": [
            "Your model reached the desired accuracy after 15 epochs\n"
          ]
        }
      ]
    }
  ]
}