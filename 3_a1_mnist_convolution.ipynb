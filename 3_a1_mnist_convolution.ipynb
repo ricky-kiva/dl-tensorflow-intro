{
  "nbformat": 4,
  "nbformat_minor": 0,
  "metadata": {
    "colab": {
      "provenance": [],
      "authorship_tag": "ABX9TyMBkN4FYtYB/jD73QAkU5pD",
      "include_colab_link": true
    },
    "kernelspec": {
      "name": "python3",
      "display_name": "Python 3"
    },
    "language_info": {
      "name": "python"
    }
  },
  "cells": [
    {
      "cell_type": "markdown",
      "metadata": {
        "id": "view-in-github",
        "colab_type": "text"
      },
      "source": [
        "<a href=\"https://colab.research.google.com/github/ricky-kiva/dl-tensorflow-intro/blob/main/3_a1_mnist_convolution.ipynb\" target=\"_parent\"><img src=\"https://colab.research.google.com/assets/colab-badge.svg\" alt=\"Open In Colab\"/></a>"
      ]
    },
    {
      "cell_type": "markdown",
      "source": [
        "# **Convolution on MNIST dataset**"
      ],
      "metadata": {
        "id": "Q58ZLttAqRrL"
      }
    },
    {
      "cell_type": "code",
      "source": [
        "# import libraries\n",
        "import tensorflow as tf\n",
        "import numpy as np"
      ],
      "metadata": {
        "id": "UsedRMujqXRi"
      },
      "execution_count": null,
      "outputs": []
    },
    {
      "cell_type": "markdown",
      "source": [
        "Load dataset"
      ],
      "metadata": {
        "id": "tdCXP-5TrJBe"
      }
    },
    {
      "cell_type": "code",
      "source": [
        "# instantiate dataset from tensorflow API\n",
        "mnist = tf.keras.datasets.mnist\n",
        "\n",
        "# get only train data\n",
        "(training_images, training_labels), _ = mnist.load_data()\n",
        "\n",
        "# see shape\n",
        "training_images.shape"
      ],
      "metadata": {
        "colab": {
          "base_uri": "https://localhost:8080/"
        },
        "id": "SuWOxe5xqkmO",
        "outputId": "78434c58-efa3-45b4-c0e9-82c2f65dbc9d"
      },
      "execution_count": null,
      "outputs": [
        {
          "output_type": "execute_result",
          "data": {
            "text/plain": [
              "(60000, 28, 28)"
            ]
          },
          "metadata": {},
          "execution_count": 3
        }
      ]
    },
    {
      "cell_type": "markdown",
      "source": [
        "Make function to reshape & normalize train image data"
      ],
      "metadata": {
        "id": "1LuU6E2LrFH_"
      }
    },
    {
      "cell_type": "code",
      "source": [
        "def reshape_and_normalize(images):\n",
        "\n",
        "  # reshape the image to add extra dimension (for color)\n",
        "  images = images.reshape(60000, 28, 28, 1)\n",
        "\n",
        "  # normalize images\n",
        "  images = images / 255.0\n",
        "\n",
        "  return images"
      ],
      "metadata": {
        "id": "b_y7mrVQqpTH"
      },
      "execution_count": null,
      "outputs": []
    },
    {
      "cell_type": "markdown",
      "source": [
        "Do & check reshape and normalize"
      ],
      "metadata": {
        "id": "HmDx4FnnrYEA"
      }
    },
    {
      "cell_type": "code",
      "source": [
        "training_images = reshape_and_normalize(training_images)\n",
        "\n",
        "print(f'Maximum pixel value after normalization: {np.max(training_images)}\\n')\n",
        "print(f'Shape of training set after reshape: {training_images.shape}\\n')\n",
        "print(f'Shape of single image after reshape: {training_images[0].shape}')"
      ],
      "metadata": {
        "colab": {
          "base_uri": "https://localhost:8080/"
        },
        "id": "bH_PKbZSrkHr",
        "outputId": "70d445c8-7490-4bbd-9fb6-6da6ddc04e4e"
      },
      "execution_count": null,
      "outputs": [
        {
          "output_type": "stream",
          "name": "stdout",
          "text": [
            "Maximum pixel value after normalization: 1.0\n",
            "\n",
            "Shape of training set after reshape: (60000, 28, 28, 1)\n",
            "\n",
            "Shape of single image after reshape: (28, 28, 1)\n"
          ]
        }
      ]
    },
    {
      "cell_type": "markdown",
      "source": [
        "Defining callback"
      ],
      "metadata": {
        "id": "H35TpjFwr5jR"
      }
    },
    {
      "cell_type": "code",
      "source": [
        "class myCallback(tf.keras.callbacks.Callback):\n",
        "  def on_epoch_end(self, epoch, logs={}):\n",
        "    if(logs.get('accuracy') > 0.995):\n",
        "      print('\\nAccuracy is higher than 99.5%, cancelling the training!')\n",
        "      self.model.stop_training = True"
      ],
      "metadata": {
        "id": "8AwEAFkcr9UG"
      },
      "execution_count": null,
      "outputs": []
    },
    {
      "cell_type": "markdown",
      "source": [
        "Build the model"
      ],
      "metadata": {
        "id": "JShXf9l2sM8H"
      }
    },
    {
      "cell_type": "code",
      "source": [
        "def convolutional_model():\n",
        "  model = tf.keras.models.Sequential([\n",
        "      tf.keras.layers.Conv2D(32, (3,3), activation='relu', input_shape=(28, 28, 1)),\n",
        "      tf.keras.layers.MaxPooling2D((2,2)),\n",
        "\n",
        "      tf.keras.layers.Flatten(),\n",
        "      tf.keras.layers.Dense(128, activation='relu'),\n",
        "      tf.keras.layers.Dense(10, activation='softmax')\n",
        "  ])\n",
        "\n",
        "  model.compile(optimizer='adam',\n",
        "                loss=tf.keras.losses.SparseCategoricalCrossentropy(),\n",
        "                metrics=['accuracy'])\n",
        "\n",
        "  return model"
      ],
      "metadata": {
        "id": "Yk9JNzyEsQHB"
      },
      "execution_count": null,
      "outputs": []
    },
    {
      "cell_type": "markdown",
      "source": [
        "Train the model"
      ],
      "metadata": {
        "id": "9mfsoUBss2Uz"
      }
    },
    {
      "cell_type": "code",
      "source": [
        "# save the model to variable\n",
        "model = convolutional_model()\n",
        "\n",
        "# get number of weights\n",
        "model_params = model.count_params()\n",
        "\n",
        "# unit test to limit the size model the model\n",
        "assert model_params < 1000000, (\n",
        "    f'Your model has {model.params:,} params. '\n",
        "    f'Keep it under 1,000,000 by reducing number of units in Conv2D and/or Dense layers'\n",
        ")\n",
        "\n",
        "# instantiate callback class\n",
        "callbacks = myCallback()\n",
        "\n",
        "# train model\n",
        "history = model.fit(training_images, training_labels, epochs=10, callbacks=[callbacks])"
      ],
      "metadata": {
        "colab": {
          "base_uri": "https://localhost:8080/"
        },
        "id": "qcNVMHr_s7w5",
        "outputId": "d4c0818c-4478-4bc1-825e-408aca86aa88"
      },
      "execution_count": null,
      "outputs": [
        {
          "output_type": "stream",
          "name": "stdout",
          "text": [
            "Epoch 1/10\n",
            "1875/1875 [==============================] - 62s 32ms/step - loss: 0.1452 - accuracy: 0.9566\n",
            "Epoch 2/10\n",
            "1875/1875 [==============================] - 48s 25ms/step - loss: 0.0485 - accuracy: 0.9850\n",
            "Epoch 3/10\n",
            "1875/1875 [==============================] - 46s 24ms/step - loss: 0.0315 - accuracy: 0.9900\n",
            "Epoch 4/10\n",
            "1875/1875 [==============================] - 47s 25ms/step - loss: 0.0209 - accuracy: 0.9934\n",
            "Epoch 5/10\n",
            "1874/1875 [============================>.] - ETA: 0s - loss: 0.0133 - accuracy: 0.9956\n",
            "Accuracy is higher than 99.5%, cancelling the training!\n",
            "1875/1875 [==============================] - 48s 26ms/step - loss: 0.0133 - accuracy: 0.9956\n"
          ]
        }
      ]
    },
    {
      "cell_type": "code",
      "source": [
        "# print epoch information\n",
        "print(f'Your model was trained for {len(history.epoch)} epochs')"
      ],
      "metadata": {
        "id": "cJaF77mOtq8N"
      },
      "execution_count": null,
      "outputs": []
    }
  ]
}