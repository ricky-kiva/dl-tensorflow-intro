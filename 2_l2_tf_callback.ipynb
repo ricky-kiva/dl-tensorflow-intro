{
  "nbformat": 4,
  "nbformat_minor": 0,
  "metadata": {
    "colab": {
      "provenance": [],
      "authorship_tag": "ABX9TyMSNi9NVue9cSaaA72+/4cG",
      "include_colab_link": true
    },
    "kernelspec": {
      "name": "python3",
      "display_name": "Python 3"
    },
    "language_info": {
      "name": "python"
    }
  },
  "cells": [
    {
      "cell_type": "markdown",
      "metadata": {
        "id": "view-in-github",
        "colab_type": "text"
      },
      "source": [
        "<a href=\"https://colab.research.google.com/github/ricky-kiva/dl-tensorflow-intro/blob/main/2_l2_tf_callback.ipynb\" target=\"_parent\"><img src=\"https://colab.research.google.com/assets/colab-badge.svg\" alt=\"Open In Colab\"/></a>"
      ]
    },
    {
      "cell_type": "markdown",
      "source": [
        "# Control Training using Callbacks"
      ],
      "metadata": {
        "id": "jObgFfdq5xsj"
      }
    },
    {
      "cell_type": "code",
      "source": [
        "# import libraries\n",
        "import tensorflow as tf"
      ],
      "metadata": {
        "id": "rmd8mHBJ6IzR"
      },
      "execution_count": 2,
      "outputs": []
    },
    {
      "cell_type": "markdown",
      "source": [
        "Load dataset and normalize"
      ],
      "metadata": {
        "id": "9EPyoW3m6Qxx"
      }
    },
    {
      "cell_type": "code",
      "source": [
        "# instantiate dataset API\n",
        "fmnist = tf.keras.datasets.fashion_mnist\n",
        "\n",
        "# load dataset\n",
        "(x_train, y_train), (x_test, y_test) = fmnist.load_data()\n",
        "\n",
        "# normalize pixel values\n",
        "x_train, x_test = (x_train / 255.0), (x_test / 255.0)"
      ],
      "metadata": {
        "colab": {
          "base_uri": "https://localhost:8080/"
        },
        "id": "OBxlsPZK6UyB",
        "outputId": "526ec38f-c9ac-431b-e967-75dd14c58921"
      },
      "execution_count": 3,
      "outputs": [
        {
          "output_type": "stream",
          "name": "stdout",
          "text": [
            "Downloading data from https://storage.googleapis.com/tensorflow/tf-keras-datasets/train-labels-idx1-ubyte.gz\n",
            "29515/29515 [==============================] - 0s 0us/step\n",
            "Downloading data from https://storage.googleapis.com/tensorflow/tf-keras-datasets/train-images-idx3-ubyte.gz\n",
            "26421880/26421880 [==============================] - 0s 0us/step\n",
            "Downloading data from https://storage.googleapis.com/tensorflow/tf-keras-datasets/t10k-labels-idx1-ubyte.gz\n",
            "5148/5148 [==============================] - 0s 0us/step\n",
            "Downloading data from https://storage.googleapis.com/tensorflow/tf-keras-datasets/t10k-images-idx3-ubyte.gz\n",
            "4422102/4422102 [==============================] - 0s 0us/step\n"
          ]
        }
      ]
    },
    {
      "cell_type": "markdown",
      "source": [
        "Create callback class by defining a class that inherits the [tf.keras.callbacks.Callback](https://www.tensorflow.org/api_docs/python/tf/keras/callbacks/Callback) base class\n",
        "\n",
        "From there, one can override available methods to set where the callback will be executed. In this example, we will use [on_epoch_end()](https://www.tensorflow.org/api_docs/python/tf/keras/callbacks/Callback#on_epoch_end)\n",
        "\n",
        "Args:\n",
        "*   epoch (integer) - index of epoch (required but unused in the function definition below)\n",
        "*   logs (dict) - metric results from the training epoch\n"
      ],
      "metadata": {
        "id": "FkTIo6NK6n1w"
      }
    },
    {
      "cell_type": "code",
      "source": [
        "class myCallback(tf.keras.callbacks.Callback):\n",
        "  def on_epoch_end(self, epoch, logs={}):\n",
        "\n",
        "    # Check the loss\n",
        "    if(logs.get('loss') < 0.4):\n",
        "\n",
        "      # Stop if threshold is met\n",
        "      print(\"\\nLoss is lower than 0.4 so cancelling training!\")\n",
        "      self.model.stop_training = True"
      ],
      "metadata": {
        "id": "7z5XPXEs7ie-"
      },
      "execution_count": 13,
      "outputs": []
    },
    {
      "cell_type": "code",
      "source": [
        "# define the model\n",
        "model = tf.keras.models.Sequential([\n",
        "    tf.keras.layers.Flatten(input_shape=(28, 28)),\n",
        "    tf.keras.layers.Dense(512, activation=tf.nn.relu),\n",
        "    tf.keras.layers.Dense(10, activation=tf.nn.softmax)\n",
        "])\n",
        "\n",
        "# compile the model\n",
        "model.compile(optimizer=tf.optimizers.Adam(),\n",
        "              loss=tf.losses.SparseCategoricalCrossentropy(),\n",
        "              metrics=['accuracy'])"
      ],
      "metadata": {
        "id": "OQ0B569r8BT8"
      },
      "execution_count": 14,
      "outputs": []
    },
    {
      "cell_type": "code",
      "source": [
        "# instantiate class\n",
        "callbacks = myCallback()\n",
        "\n",
        "# train the model with callback\n",
        "model.fit(x_train, y_train, epochs=10, callbacks=[callbacks])"
      ],
      "metadata": {
        "colab": {
          "base_uri": "https://localhost:8080/"
        },
        "id": "4dl7t5m79BaQ",
        "outputId": "296a0274-02fc-4071-d6dc-00fc7b59b0c4"
      },
      "execution_count": 15,
      "outputs": [
        {
          "output_type": "stream",
          "name": "stdout",
          "text": [
            "Epoch 1/10\n",
            "1875/1875 [==============================] - 19s 10ms/step - loss: 0.4744 - accuracy: 0.8299\n",
            "Epoch 2/10\n",
            "1869/1875 [============================>.] - ETA: 0s - loss: 0.3574 - accuracy: 0.8701\n",
            "Loss is lower than 0.4 so cancelling training!\n",
            "1875/1875 [==============================] - 17s 9ms/step - loss: 0.3572 - accuracy: 0.8703\n"
          ]
        },
        {
          "output_type": "execute_result",
          "data": {
            "text/plain": [
              "<keras.callbacks.History at 0x79819008f9a0>"
            ]
          },
          "metadata": {},
          "execution_count": 15
        }
      ]
    }
  ]
}